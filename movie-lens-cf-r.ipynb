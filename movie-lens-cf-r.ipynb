{
 "cells": [
  {
   "cell_type": "code",
   "execution_count": 1,
   "metadata": {},
   "outputs": [
    {
     "name": "stderr",
     "output_type": "stream",
     "text": [
      "\n",
      "Attaching package: ‘mlpack’\n",
      "\n",
      "\n",
      "The following object is masked from ‘package:stats’:\n",
      "\n",
      "    kmeans\n",
      "\n",
      "\n",
      "The following object is masked from ‘package:base’:\n",
      "\n",
      "    det\n",
      "\n",
      "\n",
      "Loading required package: RColorBrewer\n",
      "\n",
      "Loading required package: NLP\n",
      "\n",
      "\n",
      "Attaching package: ‘dplyr’\n",
      "\n",
      "\n",
      "The following objects are masked from ‘package:data.table’:\n",
      "\n",
      "    between, first, last\n",
      "\n",
      "\n",
      "The following objects are masked from ‘package:stats’:\n",
      "\n",
      "    filter, lag\n",
      "\n",
      "\n",
      "The following objects are masked from ‘package:base’:\n",
      "\n",
      "    intersect, setdiff, setequal, union\n",
      "\n",
      "\n",
      "\n",
      "Attaching package: ‘ggplot2’\n",
      "\n",
      "\n",
      "The following object is masked from ‘package:NLP’:\n",
      "\n",
      "    annotate\n",
      "\n",
      "\n"
     ]
    }
   ],
   "source": [
    "# load required libraries or packages for this example\n",
    "library(mlpack)\n",
    "library(data.table)\n",
    "library(wordcloud)\n",
    "library(tm)\n",
    "library(dplyr)\n",
    "library(ggplot2)"
   ]
  },
  {
   "cell_type": "code",
   "execution_count": 3,
   "metadata": {},
   "outputs": [],
   "source": [
    "# read movie and ratings data into memory \n",
    "ratings <- fread(\"http://www.mlpack.org/datasets/ml-20m/ratings-only.csv.gz\")\n",
    "movies <- fread(\"http://www.mlpack.org/datasets/ml-20m/movies.csv.gz\")"
   ]
  },
  {
   "cell_type": "markdown",
   "metadata": {},
   "source": [
    "Lets check the data set to see if there are any missing values."
   ]
  },
  {
   "cell_type": "code",
   "execution_count": 4,
   "metadata": {
    "scrolled": true
   },
   "outputs": [
    {
     "data": {
      "text/html": [
       "FALSE"
      ],
      "text/latex": [
       "FALSE"
      ],
      "text/markdown": [
       "FALSE"
      ],
      "text/plain": [
       "[1] FALSE"
      ]
     },
     "metadata": {},
     "output_type": "display_data"
    },
    {
     "data": {
      "text/html": [
       "FALSE"
      ],
      "text/latex": [
       "FALSE"
      ],
      "text/markdown": [
       "FALSE"
      ],
      "text/plain": [
       "[1] FALSE"
      ]
     },
     "metadata": {},
     "output_type": "display_data"
    }
   ],
   "source": [
    "checkNas <- function(df)\n",
    "{\n",
    "    df      %>%\n",
    "    is.na() %>%\n",
    "    any()\n",
    "}\n",
    "\n",
    "checkNas(ratings)\n",
    "checkNas(movies)"
   ]
  },
  {
   "cell_type": "code",
   "execution_count": 5,
   "metadata": {},
   "outputs": [
    {
     "data": {
      "text/html": [
       "<table>\n",
       "<caption>A data.table: 10 × 3</caption>\n",
       "<thead>\n",
       "\t<tr><th scope=col>userId</th><th scope=col>movieId</th><th scope=col>rating</th></tr>\n",
       "\t<tr><th scope=col>&lt;int&gt;</th><th scope=col>&lt;int&gt;</th><th scope=col>&lt;dbl&gt;</th></tr>\n",
       "</thead>\n",
       "<tbody>\n",
       "\t<tr><td>1</td><td>  1</td><td>3.5</td></tr>\n",
       "\t<tr><td>1</td><td> 28</td><td>3.5</td></tr>\n",
       "\t<tr><td>1</td><td> 31</td><td>3.5</td></tr>\n",
       "\t<tr><td>1</td><td> 46</td><td>3.5</td></tr>\n",
       "\t<tr><td>1</td><td> 49</td><td>3.5</td></tr>\n",
       "\t<tr><td>1</td><td>110</td><td>3.5</td></tr>\n",
       "\t<tr><td>1</td><td>149</td><td>4.0</td></tr>\n",
       "\t<tr><td>1</td><td>220</td><td>4.0</td></tr>\n",
       "\t<tr><td>1</td><td>250</td><td>4.0</td></tr>\n",
       "\t<tr><td>1</td><td>257</td><td>4.0</td></tr>\n",
       "</tbody>\n",
       "</table>\n"
      ],
      "text/latex": [
       "A data.table: 10 × 3\n",
       "\\begin{tabular}{lll}\n",
       " userId & movieId & rating\\\\\n",
       " <int> & <int> & <dbl>\\\\\n",
       "\\hline\n",
       "\t 1 &   1 & 3.5\\\\\n",
       "\t 1 &  28 & 3.5\\\\\n",
       "\t 1 &  31 & 3.5\\\\\n",
       "\t 1 &  46 & 3.5\\\\\n",
       "\t 1 &  49 & 3.5\\\\\n",
       "\t 1 & 110 & 3.5\\\\\n",
       "\t 1 & 149 & 4.0\\\\\n",
       "\t 1 & 220 & 4.0\\\\\n",
       "\t 1 & 250 & 4.0\\\\\n",
       "\t 1 & 257 & 4.0\\\\\n",
       "\\end{tabular}\n"
      ],
      "text/markdown": [
       "\n",
       "A data.table: 10 × 3\n",
       "\n",
       "| userId &lt;int&gt; | movieId &lt;int&gt; | rating &lt;dbl&gt; |\n",
       "|---|---|---|\n",
       "| 1 |   1 | 3.5 |\n",
       "| 1 |  28 | 3.5 |\n",
       "| 1 |  31 | 3.5 |\n",
       "| 1 |  46 | 3.5 |\n",
       "| 1 |  49 | 3.5 |\n",
       "| 1 | 110 | 3.5 |\n",
       "| 1 | 149 | 4.0 |\n",
       "| 1 | 220 | 4.0 |\n",
       "| 1 | 250 | 4.0 |\n",
       "| 1 | 257 | 4.0 |\n",
       "\n"
      ],
      "text/plain": [
       "   userId movieId rating\n",
       "1  1        1     3.5   \n",
       "2  1       28     3.5   \n",
       "3  1       31     3.5   \n",
       "4  1       46     3.5   \n",
       "5  1       49     3.5   \n",
       "6  1      110     3.5   \n",
       "7  1      149     4.0   \n",
       "8  1      220     4.0   \n",
       "9  1      250     4.0   \n",
       "10 1      257     4.0   "
      ]
     },
     "metadata": {},
     "output_type": "display_data"
    }
   ],
   "source": [
    "# Peak at or print the first 10 rows of the ratings data. \n",
    "head(ratings, n = 10)"
   ]
  },
  {
   "cell_type": "markdown",
   "metadata": {},
   "source": [
    "User 1 has rated the movies with id, 1 , 28, 31, 46, 49, 110 with a rating of 3.5. On the other hand the same user rated the movies with id, 149, 220, 250, 257 with a rating of 4. "
   ]
  },
  {
   "cell_type": "code",
   "execution_count": 6,
   "metadata": {},
   "outputs": [
    {
     "data": {
      "text/html": [
       "<table>\n",
       "<caption>A data.table: 10 × 4</caption>\n",
       "<thead>\n",
       "\t<tr><th scope=col>V1</th><th scope=col>movieId</th><th scope=col>title</th><th scope=col>genres</th></tr>\n",
       "\t<tr><th scope=col>&lt;int&gt;</th><th scope=col>&lt;int&gt;</th><th scope=col>&lt;chr&gt;</th><th scope=col>&lt;chr&gt;</th></tr>\n",
       "</thead>\n",
       "<tbody>\n",
       "\t<tr><td>0</td><td>0</td><td>Toy Story (1995)                  </td><td>Adventure|Animation|Children|Comedy|Fantasy</td></tr>\n",
       "\t<tr><td>1</td><td>1</td><td>Jumanji (1995)                    </td><td>Adventure|Children|Fantasy                 </td></tr>\n",
       "\t<tr><td>2</td><td>2</td><td>Grumpier Old Men (1995)           </td><td>Comedy|Romance                             </td></tr>\n",
       "\t<tr><td>3</td><td>3</td><td>Waiting to Exhale (1995)          </td><td>Comedy|Drama|Romance                       </td></tr>\n",
       "\t<tr><td>4</td><td>4</td><td>Father of the Bride Part II (1995)</td><td>Comedy                                     </td></tr>\n",
       "\t<tr><td>5</td><td>5</td><td>Heat (1995)                       </td><td>Action|Crime|Thriller                      </td></tr>\n",
       "\t<tr><td>6</td><td>6</td><td>Sabrina (1995)                    </td><td>Comedy|Romance                             </td></tr>\n",
       "\t<tr><td>7</td><td>7</td><td>Tom and Huck (1995)               </td><td>Adventure|Children                         </td></tr>\n",
       "\t<tr><td>8</td><td>8</td><td>Sudden Death (1995)               </td><td>Action                                     </td></tr>\n",
       "\t<tr><td>9</td><td>9</td><td>GoldenEye (1995)                  </td><td>Action|Adventure|Thriller                  </td></tr>\n",
       "</tbody>\n",
       "</table>\n"
      ],
      "text/latex": [
       "A data.table: 10 × 4\n",
       "\\begin{tabular}{llll}\n",
       " V1 & movieId & title & genres\\\\\n",
       " <int> & <int> & <chr> & <chr>\\\\\n",
       "\\hline\n",
       "\t 0 & 0 & Toy Story (1995)                   & Adventure\\textbar{}Animation\\textbar{}Children\\textbar{}Comedy\\textbar{}Fantasy\\\\\n",
       "\t 1 & 1 & Jumanji (1995)                     & Adventure\\textbar{}Children\\textbar{}Fantasy                 \\\\\n",
       "\t 2 & 2 & Grumpier Old Men (1995)            & Comedy\\textbar{}Romance                             \\\\\n",
       "\t 3 & 3 & Waiting to Exhale (1995)           & Comedy\\textbar{}Drama\\textbar{}Romance                       \\\\\n",
       "\t 4 & 4 & Father of the Bride Part II (1995) & Comedy                                     \\\\\n",
       "\t 5 & 5 & Heat (1995)                        & Action\\textbar{}Crime\\textbar{}Thriller                      \\\\\n",
       "\t 6 & 6 & Sabrina (1995)                     & Comedy\\textbar{}Romance                             \\\\\n",
       "\t 7 & 7 & Tom and Huck (1995)                & Adventure\\textbar{}Children                         \\\\\n",
       "\t 8 & 8 & Sudden Death (1995)                & Action                                     \\\\\n",
       "\t 9 & 9 & GoldenEye (1995)                   & Action\\textbar{}Adventure\\textbar{}Thriller                  \\\\\n",
       "\\end{tabular}\n"
      ],
      "text/markdown": [
       "\n",
       "A data.table: 10 × 4\n",
       "\n",
       "| V1 &lt;int&gt; | movieId &lt;int&gt; | title &lt;chr&gt; | genres &lt;chr&gt; |\n",
       "|---|---|---|---|\n",
       "| 0 | 0 | Toy Story (1995)                   | Adventure|Animation|Children|Comedy|Fantasy |\n",
       "| 1 | 1 | Jumanji (1995)                     | Adventure|Children|Fantasy                  |\n",
       "| 2 | 2 | Grumpier Old Men (1995)            | Comedy|Romance                              |\n",
       "| 3 | 3 | Waiting to Exhale (1995)           | Comedy|Drama|Romance                        |\n",
       "| 4 | 4 | Father of the Bride Part II (1995) | Comedy                                      |\n",
       "| 5 | 5 | Heat (1995)                        | Action|Crime|Thriller                       |\n",
       "| 6 | 6 | Sabrina (1995)                     | Comedy|Romance                              |\n",
       "| 7 | 7 | Tom and Huck (1995)                | Adventure|Children                          |\n",
       "| 8 | 8 | Sudden Death (1995)                | Action                                      |\n",
       "| 9 | 9 | GoldenEye (1995)                   | Action|Adventure|Thriller                   |\n",
       "\n"
      ],
      "text/plain": [
       "   V1 movieId title                             \n",
       "1  0  0       Toy Story (1995)                  \n",
       "2  1  1       Jumanji (1995)                    \n",
       "3  2  2       Grumpier Old Men (1995)           \n",
       "4  3  3       Waiting to Exhale (1995)          \n",
       "5  4  4       Father of the Bride Part II (1995)\n",
       "6  5  5       Heat (1995)                       \n",
       "7  6  6       Sabrina (1995)                    \n",
       "8  7  7       Tom and Huck (1995)               \n",
       "9  8  8       Sudden Death (1995)               \n",
       "10 9  9       GoldenEye (1995)                  \n",
       "   genres                                     \n",
       "1  Adventure|Animation|Children|Comedy|Fantasy\n",
       "2  Adventure|Children|Fantasy                 \n",
       "3  Comedy|Romance                             \n",
       "4  Comedy|Drama|Romance                       \n",
       "5  Comedy                                     \n",
       "6  Action|Crime|Thriller                      \n",
       "7  Comedy|Romance                             \n",
       "8  Adventure|Children                         \n",
       "9  Action                                     \n",
       "10 Action|Adventure|Thriller                  "
      ]
     },
     "metadata": {},
     "output_type": "display_data"
    }
   ],
   "source": [
    "# Peak at or print the first 10 rows of the movie data.\n",
    "head(movies, n = 10)"
   ]
  },
  {
   "cell_type": "markdown",
   "metadata": {},
   "source": [
    "The movielens dataset contains data on a large number of movies. Present are three columns: movie ID, title, and genres. The genres fall into 18 categories, but more on that later."
   ]
  },
  {
   "cell_type": "code",
   "execution_count": 14,
   "metadata": {},
   "outputs": [],
   "source": [
    "# create a corpus of the titles and clean up the titles \n",
    "options(warn=-1)\n",
    "cleanedCorpus <- function(cp)\n",
    "{\n",
    "    \n",
    "    cp %>% \n",
    "    VectorSource() %>%\n",
    "    Corpus()       %>%\n",
    "    tm_map(. , content_transformer(tolower)) %>%\n",
    "    tm_map(. , removeWords, stopwords(kind = 'english')) %>%\n",
    "    tm_map(. , removePunctuation) %>%\n",
    "    tm_map(. , removeNumbers)\n",
    "}\n",
    "\n",
    "movie_corpus <- cleanedCorpus(movies$title)"
   ]
  },
  {
   "cell_type": "code",
   "execution_count": 15,
   "metadata": {},
   "outputs": [
    {
     "name": "stderr",
     "output_type": "stream",
     "text": [
      "IOPub data rate exceeded.\n",
      "The notebook server will temporarily stop sending output\n",
      "to the client in order to avoid crashing it.\n",
      "To change this limit, set the config variable\n",
      "`--NotebookApp.iopub_data_rate_limit`.\n",
      "\n",
      "Current values:\n",
      "NotebookApp.iopub_data_rate_limit=1000000.0 (bytes/sec)\n",
      "NotebookApp.rate_limit_window=3.0 (secs)\n",
      "\n"
     ]
    }
   ],
   "source": [
    "inspect(movie_corpus)\n"
   ]
  }
 ],
 "metadata": {
  "kernelspec": {
   "display_name": "R",
   "language": "R",
   "name": "ir"
  },
  "language_info": {
   "codemirror_mode": "r",
   "file_extension": ".r",
   "mimetype": "text/x-r-source",
   "name": "R",
   "pygments_lexer": "r",
   "version": "4.0.2"
  }
 },
 "nbformat": 4,
 "nbformat_minor": 4
}
